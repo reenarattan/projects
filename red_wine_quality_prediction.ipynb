{
 "cells": [
  {
   "cell_type": "markdown",
   "id": "01e7ae01",
   "metadata": {},
   "source": [
    "#                     Project:- Red wine quality prediction   "
   ]
  },
  {
   "cell_type": "code",
   "execution_count": 2,
   "id": "2d3ea346",
   "metadata": {},
   "outputs": [],
   "source": [
    "import pandas as pd\n",
    "import numpy as np\n",
    "import matplotlib.pyplot as plt\n",
    "import seaborn as sns "
   ]
  },
  {
   "cell_type": "code",
   "execution_count": 3,
   "id": "bf4a0c4f",
   "metadata": {},
   "outputs": [
    {
     "data": {
      "text/html": [
       "<div>\n",
       "<style scoped>\n",
       "    .dataframe tbody tr th:only-of-type {\n",
       "        vertical-align: middle;\n",
       "    }\n",
       "\n",
       "    .dataframe tbody tr th {\n",
       "        vertical-align: top;\n",
       "    }\n",
       "\n",
       "    .dataframe thead th {\n",
       "        text-align: right;\n",
       "    }\n",
       "</style>\n",
       "<table border=\"1\" class=\"dataframe\">\n",
       "  <thead>\n",
       "    <tr style=\"text-align: right;\">\n",
       "      <th></th>\n",
       "      <th>fixed acidity</th>\n",
       "      <th>volatile acidity</th>\n",
       "      <th>citric acid</th>\n",
       "      <th>residual sugar</th>\n",
       "      <th>chlorides</th>\n",
       "      <th>free sulfur dioxide</th>\n",
       "      <th>total sulfur dioxide</th>\n",
       "      <th>density</th>\n",
       "      <th>pH</th>\n",
       "      <th>sulphates</th>\n",
       "      <th>alcohol</th>\n",
       "      <th>quality</th>\n",
       "    </tr>\n",
       "  </thead>\n",
       "  <tbody>\n",
       "    <tr>\n",
       "      <th>0</th>\n",
       "      <td>7.4</td>\n",
       "      <td>0.70</td>\n",
       "      <td>0.00</td>\n",
       "      <td>1.9</td>\n",
       "      <td>0.076</td>\n",
       "      <td>11.0</td>\n",
       "      <td>34.0</td>\n",
       "      <td>0.9978</td>\n",
       "      <td>3.51</td>\n",
       "      <td>0.56</td>\n",
       "      <td>9.4</td>\n",
       "      <td>5</td>\n",
       "    </tr>\n",
       "    <tr>\n",
       "      <th>1</th>\n",
       "      <td>7.8</td>\n",
       "      <td>0.88</td>\n",
       "      <td>0.00</td>\n",
       "      <td>2.6</td>\n",
       "      <td>0.098</td>\n",
       "      <td>25.0</td>\n",
       "      <td>67.0</td>\n",
       "      <td>0.9968</td>\n",
       "      <td>3.20</td>\n",
       "      <td>0.68</td>\n",
       "      <td>9.8</td>\n",
       "      <td>5</td>\n",
       "    </tr>\n",
       "    <tr>\n",
       "      <th>2</th>\n",
       "      <td>7.8</td>\n",
       "      <td>0.76</td>\n",
       "      <td>0.04</td>\n",
       "      <td>2.3</td>\n",
       "      <td>0.092</td>\n",
       "      <td>15.0</td>\n",
       "      <td>54.0</td>\n",
       "      <td>0.9970</td>\n",
       "      <td>3.26</td>\n",
       "      <td>0.65</td>\n",
       "      <td>9.8</td>\n",
       "      <td>5</td>\n",
       "    </tr>\n",
       "    <tr>\n",
       "      <th>3</th>\n",
       "      <td>11.2</td>\n",
       "      <td>0.28</td>\n",
       "      <td>0.56</td>\n",
       "      <td>1.9</td>\n",
       "      <td>0.075</td>\n",
       "      <td>17.0</td>\n",
       "      <td>60.0</td>\n",
       "      <td>0.9980</td>\n",
       "      <td>3.16</td>\n",
       "      <td>0.58</td>\n",
       "      <td>9.8</td>\n",
       "      <td>6</td>\n",
       "    </tr>\n",
       "    <tr>\n",
       "      <th>4</th>\n",
       "      <td>7.4</td>\n",
       "      <td>0.70</td>\n",
       "      <td>0.00</td>\n",
       "      <td>1.9</td>\n",
       "      <td>0.076</td>\n",
       "      <td>11.0</td>\n",
       "      <td>34.0</td>\n",
       "      <td>0.9978</td>\n",
       "      <td>3.51</td>\n",
       "      <td>0.56</td>\n",
       "      <td>9.4</td>\n",
       "      <td>5</td>\n",
       "    </tr>\n",
       "  </tbody>\n",
       "</table>\n",
       "</div>"
      ],
      "text/plain": [
       "   fixed acidity  volatile acidity  citric acid  residual sugar  chlorides  \\\n",
       "0            7.4              0.70         0.00             1.9      0.076   \n",
       "1            7.8              0.88         0.00             2.6      0.098   \n",
       "2            7.8              0.76         0.04             2.3      0.092   \n",
       "3           11.2              0.28         0.56             1.9      0.075   \n",
       "4            7.4              0.70         0.00             1.9      0.076   \n",
       "\n",
       "   free sulfur dioxide  total sulfur dioxide  density    pH  sulphates  \\\n",
       "0                 11.0                  34.0   0.9978  3.51       0.56   \n",
       "1                 25.0                  67.0   0.9968  3.20       0.68   \n",
       "2                 15.0                  54.0   0.9970  3.26       0.65   \n",
       "3                 17.0                  60.0   0.9980  3.16       0.58   \n",
       "4                 11.0                  34.0   0.9978  3.51       0.56   \n",
       "\n",
       "   alcohol  quality  \n",
       "0      9.4        5  \n",
       "1      9.8        5  \n",
       "2      9.8        5  \n",
       "3      9.8        6  \n",
       "4      9.4        5  "
      ]
     },
     "execution_count": 3,
     "metadata": {},
     "output_type": "execute_result"
    }
   ],
   "source": [
    "# load the dataset and reading the first 5 rows.\n",
    "wine = pd.read_csv('red_wine_quality.csv')\n",
    "wine.head()"
   ]
  },
  {
   "cell_type": "code",
   "execution_count": 4,
   "id": "33d67a42",
   "metadata": {},
   "outputs": [
    {
     "data": {
      "text/plain": [
       "(1599, 12)"
      ]
     },
     "execution_count": 4,
     "metadata": {},
     "output_type": "execute_result"
    }
   ],
   "source": [
    "#shape\n",
    "wine.shape"
   ]
  },
  {
   "cell_type": "code",
   "execution_count": 5,
   "id": "7b092943",
   "metadata": {},
   "outputs": [
    {
     "data": {
      "text/plain": [
       "<bound method DataFrame.info of       fixed acidity  volatile acidity  citric acid  residual sugar  chlorides  \\\n",
       "0               7.4             0.700         0.00             1.9      0.076   \n",
       "1               7.8             0.880         0.00             2.6      0.098   \n",
       "2               7.8             0.760         0.04             2.3      0.092   \n",
       "3              11.2             0.280         0.56             1.9      0.075   \n",
       "4               7.4             0.700         0.00             1.9      0.076   \n",
       "...             ...               ...          ...             ...        ...   \n",
       "1594            6.2             0.600         0.08             2.0      0.090   \n",
       "1595            5.9             0.550         0.10             2.2      0.062   \n",
       "1596            6.3             0.510         0.13             2.3      0.076   \n",
       "1597            5.9             0.645         0.12             2.0      0.075   \n",
       "1598            6.0             0.310         0.47             3.6      0.067   \n",
       "\n",
       "      free sulfur dioxide  total sulfur dioxide  density    pH  sulphates  \\\n",
       "0                    11.0                  34.0  0.99780  3.51       0.56   \n",
       "1                    25.0                  67.0  0.99680  3.20       0.68   \n",
       "2                    15.0                  54.0  0.99700  3.26       0.65   \n",
       "3                    17.0                  60.0  0.99800  3.16       0.58   \n",
       "4                    11.0                  34.0  0.99780  3.51       0.56   \n",
       "...                   ...                   ...      ...   ...        ...   \n",
       "1594                 32.0                  44.0  0.99490  3.45       0.58   \n",
       "1595                 39.0                  51.0  0.99512  3.52       0.76   \n",
       "1596                 29.0                  40.0  0.99574  3.42       0.75   \n",
       "1597                 32.0                  44.0  0.99547  3.57       0.71   \n",
       "1598                 18.0                  42.0  0.99549  3.39       0.66   \n",
       "\n",
       "      alcohol  quality  \n",
       "0         9.4        5  \n",
       "1         9.8        5  \n",
       "2         9.8        5  \n",
       "3         9.8        6  \n",
       "4         9.4        5  \n",
       "...       ...      ...  \n",
       "1594     10.5        5  \n",
       "1595     11.2        6  \n",
       "1596     11.0        6  \n",
       "1597     10.2        5  \n",
       "1598     11.0        6  \n",
       "\n",
       "[1599 rows x 12 columns]>"
      ]
     },
     "execution_count": 5,
     "metadata": {},
     "output_type": "execute_result"
    }
   ],
   "source": [
    "#info\n",
    "wine.info"
   ]
  },
  {
   "cell_type": "code",
   "execution_count": 6,
   "id": "15d0adcf",
   "metadata": {},
   "outputs": [
    {
     "data": {
      "text/plain": [
       "fixed acidity           0\n",
       "volatile acidity        0\n",
       "citric acid             0\n",
       "residual sugar          0\n",
       "chlorides               0\n",
       "free sulfur dioxide     0\n",
       "total sulfur dioxide    0\n",
       "density                 0\n",
       "pH                      0\n",
       "sulphates               0\n",
       "alcohol                 0\n",
       "quality                 0\n",
       "dtype: int64"
      ]
     },
     "execution_count": 6,
     "metadata": {},
     "output_type": "execute_result"
    }
   ],
   "source": [
    "#chaeck missing values\n",
    "\n",
    "wine.isnull().sum()"
   ]
  },
  {
   "cell_type": "code",
   "execution_count": 8,
   "id": "fe87f90a",
   "metadata": {},
   "outputs": [
    {
     "data": {
      "text/html": [
       "<div>\n",
       "<style scoped>\n",
       "    .dataframe tbody tr th:only-of-type {\n",
       "        vertical-align: middle;\n",
       "    }\n",
       "\n",
       "    .dataframe tbody tr th {\n",
       "        vertical-align: top;\n",
       "    }\n",
       "\n",
       "    .dataframe thead th {\n",
       "        text-align: right;\n",
       "    }\n",
       "</style>\n",
       "<table border=\"1\" class=\"dataframe\">\n",
       "  <thead>\n",
       "    <tr style=\"text-align: right;\">\n",
       "      <th></th>\n",
       "      <th>fixed acidity</th>\n",
       "      <th>volatile acidity</th>\n",
       "      <th>citric acid</th>\n",
       "      <th>residual sugar</th>\n",
       "      <th>chlorides</th>\n",
       "      <th>free sulfur dioxide</th>\n",
       "      <th>total sulfur dioxide</th>\n",
       "      <th>density</th>\n",
       "      <th>pH</th>\n",
       "      <th>sulphates</th>\n",
       "      <th>alcohol</th>\n",
       "      <th>quality</th>\n",
       "    </tr>\n",
       "  </thead>\n",
       "  <tbody>\n",
       "    <tr>\n",
       "      <th>count</th>\n",
       "      <td>1599.000000</td>\n",
       "      <td>1599.000000</td>\n",
       "      <td>1599.000000</td>\n",
       "      <td>1599.000000</td>\n",
       "      <td>1599.000000</td>\n",
       "      <td>1599.000000</td>\n",
       "      <td>1599.000000</td>\n",
       "      <td>1599.000000</td>\n",
       "      <td>1599.000000</td>\n",
       "      <td>1599.000000</td>\n",
       "      <td>1599.000000</td>\n",
       "      <td>1599.000000</td>\n",
       "    </tr>\n",
       "    <tr>\n",
       "      <th>mean</th>\n",
       "      <td>8.319637</td>\n",
       "      <td>0.527821</td>\n",
       "      <td>0.270976</td>\n",
       "      <td>2.538806</td>\n",
       "      <td>0.087467</td>\n",
       "      <td>15.874922</td>\n",
       "      <td>46.467792</td>\n",
       "      <td>0.996747</td>\n",
       "      <td>3.311113</td>\n",
       "      <td>0.658149</td>\n",
       "      <td>10.422983</td>\n",
       "      <td>5.636023</td>\n",
       "    </tr>\n",
       "    <tr>\n",
       "      <th>std</th>\n",
       "      <td>1.741096</td>\n",
       "      <td>0.179060</td>\n",
       "      <td>0.194801</td>\n",
       "      <td>1.409928</td>\n",
       "      <td>0.047065</td>\n",
       "      <td>10.460157</td>\n",
       "      <td>32.895324</td>\n",
       "      <td>0.001887</td>\n",
       "      <td>0.154386</td>\n",
       "      <td>0.169507</td>\n",
       "      <td>1.065668</td>\n",
       "      <td>0.807569</td>\n",
       "    </tr>\n",
       "    <tr>\n",
       "      <th>min</th>\n",
       "      <td>4.600000</td>\n",
       "      <td>0.120000</td>\n",
       "      <td>0.000000</td>\n",
       "      <td>0.900000</td>\n",
       "      <td>0.012000</td>\n",
       "      <td>1.000000</td>\n",
       "      <td>6.000000</td>\n",
       "      <td>0.990070</td>\n",
       "      <td>2.740000</td>\n",
       "      <td>0.330000</td>\n",
       "      <td>8.400000</td>\n",
       "      <td>3.000000</td>\n",
       "    </tr>\n",
       "    <tr>\n",
       "      <th>25%</th>\n",
       "      <td>7.100000</td>\n",
       "      <td>0.390000</td>\n",
       "      <td>0.090000</td>\n",
       "      <td>1.900000</td>\n",
       "      <td>0.070000</td>\n",
       "      <td>7.000000</td>\n",
       "      <td>22.000000</td>\n",
       "      <td>0.995600</td>\n",
       "      <td>3.210000</td>\n",
       "      <td>0.550000</td>\n",
       "      <td>9.500000</td>\n",
       "      <td>5.000000</td>\n",
       "    </tr>\n",
       "    <tr>\n",
       "      <th>50%</th>\n",
       "      <td>7.900000</td>\n",
       "      <td>0.520000</td>\n",
       "      <td>0.260000</td>\n",
       "      <td>2.200000</td>\n",
       "      <td>0.079000</td>\n",
       "      <td>14.000000</td>\n",
       "      <td>38.000000</td>\n",
       "      <td>0.996750</td>\n",
       "      <td>3.310000</td>\n",
       "      <td>0.620000</td>\n",
       "      <td>10.200000</td>\n",
       "      <td>6.000000</td>\n",
       "    </tr>\n",
       "    <tr>\n",
       "      <th>75%</th>\n",
       "      <td>9.200000</td>\n",
       "      <td>0.640000</td>\n",
       "      <td>0.420000</td>\n",
       "      <td>2.600000</td>\n",
       "      <td>0.090000</td>\n",
       "      <td>21.000000</td>\n",
       "      <td>62.000000</td>\n",
       "      <td>0.997835</td>\n",
       "      <td>3.400000</td>\n",
       "      <td>0.730000</td>\n",
       "      <td>11.100000</td>\n",
       "      <td>6.000000</td>\n",
       "    </tr>\n",
       "    <tr>\n",
       "      <th>max</th>\n",
       "      <td>15.900000</td>\n",
       "      <td>1.580000</td>\n",
       "      <td>1.000000</td>\n",
       "      <td>15.500000</td>\n",
       "      <td>0.611000</td>\n",
       "      <td>72.000000</td>\n",
       "      <td>289.000000</td>\n",
       "      <td>1.003690</td>\n",
       "      <td>4.010000</td>\n",
       "      <td>2.000000</td>\n",
       "      <td>14.900000</td>\n",
       "      <td>8.000000</td>\n",
       "    </tr>\n",
       "  </tbody>\n",
       "</table>\n",
       "</div>"
      ],
      "text/plain": [
       "       fixed acidity  volatile acidity  citric acid  residual sugar  \\\n",
       "count    1599.000000       1599.000000  1599.000000     1599.000000   \n",
       "mean        8.319637          0.527821     0.270976        2.538806   \n",
       "std         1.741096          0.179060     0.194801        1.409928   \n",
       "min         4.600000          0.120000     0.000000        0.900000   \n",
       "25%         7.100000          0.390000     0.090000        1.900000   \n",
       "50%         7.900000          0.520000     0.260000        2.200000   \n",
       "75%         9.200000          0.640000     0.420000        2.600000   \n",
       "max        15.900000          1.580000     1.000000       15.500000   \n",
       "\n",
       "         chlorides  free sulfur dioxide  total sulfur dioxide      density  \\\n",
       "count  1599.000000          1599.000000           1599.000000  1599.000000   \n",
       "mean      0.087467            15.874922             46.467792     0.996747   \n",
       "std       0.047065            10.460157             32.895324     0.001887   \n",
       "min       0.012000             1.000000              6.000000     0.990070   \n",
       "25%       0.070000             7.000000             22.000000     0.995600   \n",
       "50%       0.079000            14.000000             38.000000     0.996750   \n",
       "75%       0.090000            21.000000             62.000000     0.997835   \n",
       "max       0.611000            72.000000            289.000000     1.003690   \n",
       "\n",
       "                pH    sulphates      alcohol      quality  \n",
       "count  1599.000000  1599.000000  1599.000000  1599.000000  \n",
       "mean      3.311113     0.658149    10.422983     5.636023  \n",
       "std       0.154386     0.169507     1.065668     0.807569  \n",
       "min       2.740000     0.330000     8.400000     3.000000  \n",
       "25%       3.210000     0.550000     9.500000     5.000000  \n",
       "50%       3.310000     0.620000    10.200000     6.000000  \n",
       "75%       3.400000     0.730000    11.100000     6.000000  \n",
       "max       4.010000     2.000000    14.900000     8.000000  "
      ]
     },
     "execution_count": 8,
     "metadata": {},
     "output_type": "execute_result"
    }
   ],
   "source": [
    "wine.describe()"
   ]
  },
  {
   "cell_type": "markdown",
   "id": "7b99f273",
   "metadata": {},
   "source": [
    "# Exploratory Data Analysis(EDA)\n"
   ]
  },
  {
   "cell_type": "code",
   "execution_count": 10,
   "id": "ec6f4799",
   "metadata": {},
   "outputs": [
    {
     "data": {
      "text/plain": [
       "5    681\n",
       "6    638\n",
       "7    199\n",
       "4     53\n",
       "8     18\n",
       "3     10\n",
       "Name: quality, dtype: int64"
      ]
     },
     "execution_count": 10,
     "metadata": {},
     "output_type": "execute_result"
    }
   ],
   "source": [
    "#target varible is quality\n",
    "wine[\"quality\"].value_counts()"
   ]
  },
  {
   "cell_type": "markdown",
   "id": "c08152ee",
   "metadata": {},
   "source": [
    " visualizing the values"
   ]
  },
  {
   "cell_type": "code",
   "execution_count": 12,
   "id": "88285fef",
   "metadata": {},
   "outputs": [
    {
     "data": {
      "text/plain": [
       "<AxesSubplot:xlabel='quality', ylabel='count'>"
      ]
     },
     "execution_count": 12,
     "metadata": {},
     "output_type": "execute_result"
    },
    {
     "data": {
      "image/png": "[encoded data removed]",
      "text/plain": [
       "<Figure size 432x288 with 1 Axes>"
      ]
     },
     "metadata": {
      "needs_background": "light"
     },
     "output_type": "display_data"
    }
   ],
   "source": [
    "sns.countplot(x=wine[\"quality\"])\n"
   ]
  },
  {
   "cell_type": "code",
   "execution_count": 13,
   "id": "6e4e0945",
   "metadata": {},
   "outputs": [
    {
     "data": {
      "text/plain": [
       "<bound method DataFrame.count of       fixed acidity  volatile acidity  citric acid  residual sugar  chlorides  \\\n",
       "0               7.4             0.700         0.00             1.9      0.076   \n",
       "1               7.8             0.880         0.00             2.6      0.098   \n",
       "2               7.8             0.760         0.04             2.3      0.092   \n",
       "3              11.2             0.280         0.56             1.9      0.075   \n",
       "4               7.4             0.700         0.00             1.9      0.076   \n",
       "...             ...               ...          ...             ...        ...   \n",
       "1594            6.2             0.600         0.08             2.0      0.090   \n",
       "1595            5.9             0.550         0.10             2.2      0.062   \n",
       "1596            6.3             0.510         0.13             2.3      0.076   \n",
       "1597            5.9             0.645         0.12             2.0      0.075   \n",
       "1598            6.0             0.310         0.47             3.6      0.067   \n",
       "\n",
       "      free sulfur dioxide  total sulfur dioxide  density    pH  sulphates  \\\n",
       "0                    11.0                  34.0  0.99780  3.51       0.56   \n",
       "1                    25.0                  67.0  0.99680  3.20       0.68   \n",
       "2                    15.0                  54.0  0.99700  3.26       0.65   \n",
       "3                    17.0                  60.0  0.99800  3.16       0.58   \n",
       "4                    11.0                  34.0  0.99780  3.51       0.56   \n",
       "...                   ...                   ...      ...   ...        ...   \n",
       "1594                 32.0                  44.0  0.99490  3.45       0.58   \n",
       "1595                 39.0                  51.0  0.99512  3.52       0.76   \n",
       "1596                 29.0                  40.0  0.99574  3.42       0.75   \n",
       "1597                 32.0                  44.0  0.99547  3.57       0.71   \n",
       "1598                 18.0                  42.0  0.99549  3.39       0.66   \n",
       "\n",
       "      alcohol  quality  \n",
       "0         9.4        5  \n",
       "1         9.8        5  \n",
       "2         9.8        5  \n",
       "3         9.8        6  \n",
       "4         9.4        5  \n",
       "...       ...      ...  \n",
       "1594     10.5        5  \n",
       "1595     11.2        6  \n",
       "1596     11.0        6  \n",
       "1597     10.2        5  \n",
       "1598     11.0        6  \n",
       "\n",
       "[1599 rows x 12 columns]>"
      ]
     },
     "execution_count": 13,
     "metadata": {},
     "output_type": "execute_result"
    }
   ],
   "source": [
    "#count all the values\n",
    "wine.count"
   ]
  },
  {
   "cell_type": "code",
   "execution_count": 17,
   "id": "69cdf69a",
   "metadata": {},
   "outputs": [],
   "source": [
    "import seaborn as sns"
   ]
  },
  {
   "cell_type": "code",
   "execution_count": 21,
   "id": "adc62c2a",
   "metadata": {},
   "outputs": [
    {
     "data": {
      "text/plain": [
       "<AxesSubplot:>"
      ]
     },
     "execution_count": 21,
     "metadata": {},
     "output_type": "execute_result"
    },
    {
     "data": {
      "image/png": "[encoded data removed]",
      "text/plain": [
       "<Figure size 864x576 with 2 Axes>"
      ]
     },
     "metadata": {
      "needs_background": "light"
     },
     "output_type": "display_data"
    }
   ],
   "source": [
    "plt.figure(figsize=(12,8))\n",
    "sns.heatmap(wine.corr(),annot=True,cmap=\"coolwarm\")\n"
   ]
  },
  {
   "cell_type": "code",
   "execution_count": 24,
   "id": "b1e5c3d2",
   "metadata": {},
   "outputs": [
    {
     "data": {
      "text/plain": [
       "quality                 1.000000\n",
       "alcohol                 0.476166\n",
       "sulphates               0.251397\n",
       "citric acid             0.226373\n",
       "fixed acidity           0.124052\n",
       "residual sugar          0.013732\n",
       "free sulfur dioxide    -0.050656\n",
       "pH                     -0.057731\n",
       "chlorides              -0.128907\n",
       "density                -0.174919\n",
       "total sulfur dioxide   -0.185100\n",
       "volatile acidity       -0.390558\n",
       "Name: quality, dtype: float64"
      ]
     },
     "execution_count": 24,
     "metadata": {},
     "output_type": "execute_result"
    }
   ],
   "source": [
    " #calculate and order the correlations with respect to quality\n",
    "correlations = wine.corr()[\"quality\"].sort_values(ascending=False)\n",
    "correlations"
   ]
  },
  {
   "cell_type": "code",
   "execution_count": 28,
   "id": "f5b7f6e2",
   "metadata": {},
   "outputs": [
    {
     "data": {
      "text/plain": [
       "[Text(0.5, 1.0, 'Alcohol Percent in Different Quality Wines')]"
      ]
     },
     "execution_count": 28,
     "metadata": {},
     "output_type": "execute_result"
    },
    {
     "data": {
      "image/png": "[encoded data removed]",
      "text/plain": [
       "<Figure size 432x288 with 1 Axes>"
      ]
     },
     "metadata": {
      "needs_background": "light"
     },
     "output_type": "display_data"
    }
   ],
   "source": [
    "#Alcohol in different quality wines\n",
    "alc =sns.boxplot(x=\"quality\",y=\"alcohol\", data=wine)\n",
    "alc.set(title=\"Alcohol Percent in Different Quality Wines\")\n"
   ]
  },
  {
   "cell_type": "markdown",
   "id": "6905d133",
   "metadata": {},
   "source": [
    "observation:- the quality of wines is increasing when the percent of alcohol increased"
   ]
  },
  {
   "cell_type": "code",
   "execution_count": null,
   "id": "9a9abdba",
   "metadata": {},
   "outputs": [],
   "source": [
    "#Sulphates percent in different quality wines\n"
   ]
  },
  {
   "cell_type": "code",
   "execution_count": 29,
   "id": "1ec6905e",
   "metadata": {},
   "outputs": [
    {
     "data": {
      "text/plain": [
       "[Text(0.5, 1.0, 'Sulphates Percent in Different Quality Wines')]"
      ]
     },
     "execution_count": 29,
     "metadata": {},
     "output_type": "execute_result"
    },
    {
     "data": {
      "image/png": "[encoded data removed]",
      "text/plain": [
       "<Figure size 432x288 with 1 Axes>"
      ]
     },
     "metadata": {
      "needs_background": "light"
     },
     "output_type": "display_data"
    }
   ],
   "source": [
    "s =sns.boxplot(x=\"quality\",y=\"sulphates\", data=wine)\n",
    "s.set(title=\"Sulphates Percent in Different Quality Wines\")"
   ]
  },
  {
   "cell_type": "markdown",
   "id": "4a7795aa",
   "metadata": {},
   "source": [
    "observation:- light increment in the quality of wine as percent of sulphates increased"
   ]
  },
  {
   "cell_type": "code",
   "execution_count": 40,
   "id": "89b85049",
   "metadata": {},
   "outputs": [
    {
     "data": {
      "text/plain": [
       "[Text(0.5, 1.0, 'Citric Acid Percent in Different Quality Wines')]"
      ]
     },
     "execution_count": 40,
     "metadata": {},
     "output_type": "execute_result"
    },
    {
     "data": {
      "image/png": "[encoded data removed]",
      "text/plain": [
       "<Figure size 432x288 with 1 Axes>"
      ]
     },
     "metadata": {
      "needs_background": "light"
     },
     "output_type": "display_data"
    }
   ],
   "source": [
    "cit =sns.boxplot(x=\"quality\",y=\"citric acid\", data=wine)\n",
    "cit.set(title=\"Citric Acid Percent in Different Quality Wines\")"
   ]
  },
  {
   "cell_type": "markdown",
   "id": "452aaa74",
   "metadata": {},
   "source": [
    "observation:-Adding citric acid to these wines seem to get higher quality ratings."
   ]
  },
  {
   "cell_type": "code",
   "execution_count": 44,
   "id": "bc81d0df",
   "metadata": {},
   "outputs": [
    {
     "data": {
      "text/plain": [
       "[Text(0.5, 1.0, 'Volatile Acidity Percent in Different Quality Wines')]"
      ]
     },
     "execution_count": 44,
     "metadata": {},
     "output_type": "execute_result"
    },
    {
     "data": {
      "image/png": "[encoded data removed]",
      "text/plain": [
       "<Figure size 432x288 with 1 Axes>"
      ]
     },
     "metadata": {
      "needs_background": "light"
     },
     "output_type": "display_data"
    }
   ],
   "source": [
    "#Volatile acid percent in different quality wines\n",
    "vol =sns.boxplot(x=\"quality\",y=\"volatile acidity\", data=wine)\n",
    "vol.set(title=\"Volatile Acidity Percent in Different Quality Wines\")"
   ]
  },
  {
   "cell_type": "markdown",
   "id": "121466dc",
   "metadata": {},
   "source": [
    "observation:we can clearly observe how less it is present, the wine will have high ratings"
   ]
  },
  {
   "cell_type": "markdown",
   "id": "21cb38da",
   "metadata": {},
   "source": [
    "from correlation heatamp and boxplot, with all the featuresof wine we can see that volatile_acidity as it is having high correlation with quality than others"
   ]
  },
  {
   "cell_type": "code",
   "execution_count": 54,
   "id": "ea430780",
   "metadata": {},
   "outputs": [],
   "source": [
    "def get_correlation(data, threshold):\n",
    "    corr_col = []\n",
    "    corr_matrix = data.corr()\n",
    "    for i in range(len(corr_matrix.columns)):\n",
    "        for j in range(i):\n",
    "            if abs(corr_matrix.iloc[i,j]) > threshold:\n",
    "                col_name = corr_matrix.columns[i]\n",
    "                if col_name not in corr_col:\n",
    "                    corr_col.append(col_name)\n",
    "    return corr_col"
   ]
  },
  {
   "cell_type": "code",
   "execution_count": 55,
   "id": "20ed4232",
   "metadata": {},
   "outputs": [],
   "source": [
    "x = wine.iloc[:,:-1]\n",
    "y = wine.iloc[:,-1]\n"
   ]
  },
  {
   "cell_type": "code",
   "execution_count": 56,
   "id": "49da169b",
   "metadata": {},
   "outputs": [
    {
     "data": {
      "text/html": [
       "<div>\n",
       "<style scoped>\n",
       "    .dataframe tbody tr th:only-of-type {\n",
       "        vertical-align: middle;\n",
       "    }\n",
       "\n",
       "    .dataframe tbody tr th {\n",
       "        vertical-align: top;\n",
       "    }\n",
       "\n",
       "    .dataframe thead th {\n",
       "        text-align: right;\n",
       "    }\n",
       "</style>\n",
       "<table border=\"1\" class=\"dataframe\">\n",
       "  <thead>\n",
       "    <tr style=\"text-align: right;\">\n",
       "      <th></th>\n",
       "      <th>fixed acidity</th>\n",
       "      <th>volatile acidity</th>\n",
       "      <th>citric acid</th>\n",
       "      <th>residual sugar</th>\n",
       "      <th>chlorides</th>\n",
       "      <th>free sulfur dioxide</th>\n",
       "      <th>total sulfur dioxide</th>\n",
       "      <th>density</th>\n",
       "      <th>pH</th>\n",
       "      <th>sulphates</th>\n",
       "      <th>alcohol</th>\n",
       "    </tr>\n",
       "  </thead>\n",
       "  <tbody>\n",
       "    <tr>\n",
       "      <th>0</th>\n",
       "      <td>7.4</td>\n",
       "      <td>0.700</td>\n",
       "      <td>0.00</td>\n",
       "      <td>1.9</td>\n",
       "      <td>0.076</td>\n",
       "      <td>11.0</td>\n",
       "      <td>34.0</td>\n",
       "      <td>0.99780</td>\n",
       "      <td>3.51</td>\n",
       "      <td>0.56</td>\n",
       "      <td>9.4</td>\n",
       "    </tr>\n",
       "    <tr>\n",
       "      <th>1</th>\n",
       "      <td>7.8</td>\n",
       "      <td>0.880</td>\n",
       "      <td>0.00</td>\n",
       "      <td>2.6</td>\n",
       "      <td>0.098</td>\n",
       "      <td>25.0</td>\n",
       "      <td>67.0</td>\n",
       "      <td>0.99680</td>\n",
       "      <td>3.20</td>\n",
       "      <td>0.68</td>\n",
       "      <td>9.8</td>\n",
       "    </tr>\n",
       "    <tr>\n",
       "      <th>2</th>\n",
       "      <td>7.8</td>\n",
       "      <td>0.760</td>\n",
       "      <td>0.04</td>\n",
       "      <td>2.3</td>\n",
       "      <td>0.092</td>\n",
       "      <td>15.0</td>\n",
       "      <td>54.0</td>\n",
       "      <td>0.99700</td>\n",
       "      <td>3.26</td>\n",
       "      <td>0.65</td>\n",
       "      <td>9.8</td>\n",
       "    </tr>\n",
       "    <tr>\n",
       "      <th>3</th>\n",
       "      <td>11.2</td>\n",
       "      <td>0.280</td>\n",
       "      <td>0.56</td>\n",
       "      <td>1.9</td>\n",
       "      <td>0.075</td>\n",
       "      <td>17.0</td>\n",
       "      <td>60.0</td>\n",
       "      <td>0.99800</td>\n",
       "      <td>3.16</td>\n",
       "      <td>0.58</td>\n",
       "      <td>9.8</td>\n",
       "    </tr>\n",
       "    <tr>\n",
       "      <th>4</th>\n",
       "      <td>7.4</td>\n",
       "      <td>0.700</td>\n",
       "      <td>0.00</td>\n",
       "      <td>1.9</td>\n",
       "      <td>0.076</td>\n",
       "      <td>11.0</td>\n",
       "      <td>34.0</td>\n",
       "      <td>0.99780</td>\n",
       "      <td>3.51</td>\n",
       "      <td>0.56</td>\n",
       "      <td>9.4</td>\n",
       "    </tr>\n",
       "    <tr>\n",
       "      <th>...</th>\n",
       "      <td>...</td>\n",
       "      <td>...</td>\n",
       "      <td>...</td>\n",
       "      <td>...</td>\n",
       "      <td>...</td>\n",
       "      <td>...</td>\n",
       "      <td>...</td>\n",
       "      <td>...</td>\n",
       "      <td>...</td>\n",
       "      <td>...</td>\n",
       "      <td>...</td>\n",
       "    </tr>\n",
       "    <tr>\n",
       "      <th>1594</th>\n",
       "      <td>6.2</td>\n",
       "      <td>0.600</td>\n",
       "      <td>0.08</td>\n",
       "      <td>2.0</td>\n",
       "      <td>0.090</td>\n",
       "      <td>32.0</td>\n",
       "      <td>44.0</td>\n",
       "      <td>0.99490</td>\n",
       "      <td>3.45</td>\n",
       "      <td>0.58</td>\n",
       "      <td>10.5</td>\n",
       "    </tr>\n",
       "    <tr>\n",
       "      <th>1595</th>\n",
       "      <td>5.9</td>\n",
       "      <td>0.550</td>\n",
       "      <td>0.10</td>\n",
       "      <td>2.2</td>\n",
       "      <td>0.062</td>\n",
       "      <td>39.0</td>\n",
       "      <td>51.0</td>\n",
       "      <td>0.99512</td>\n",
       "      <td>3.52</td>\n",
       "      <td>0.76</td>\n",
       "      <td>11.2</td>\n",
       "    </tr>\n",
       "    <tr>\n",
       "      <th>1596</th>\n",
       "      <td>6.3</td>\n",
       "      <td>0.510</td>\n",
       "      <td>0.13</td>\n",
       "      <td>2.3</td>\n",
       "      <td>0.076</td>\n",
       "      <td>29.0</td>\n",
       "      <td>40.0</td>\n",
       "      <td>0.99574</td>\n",
       "      <td>3.42</td>\n",
       "      <td>0.75</td>\n",
       "      <td>11.0</td>\n",
       "    </tr>\n",
       "    <tr>\n",
       "      <th>1597</th>\n",
       "      <td>5.9</td>\n",
       "      <td>0.645</td>\n",
       "      <td>0.12</td>\n",
       "      <td>2.0</td>\n",
       "      <td>0.075</td>\n",
       "      <td>32.0</td>\n",
       "      <td>44.0</td>\n",
       "      <td>0.99547</td>\n",
       "      <td>3.57</td>\n",
       "      <td>0.71</td>\n",
       "      <td>10.2</td>\n",
       "    </tr>\n",
       "    <tr>\n",
       "      <th>1598</th>\n",
       "      <td>6.0</td>\n",
       "      <td>0.310</td>\n",
       "      <td>0.47</td>\n",
       "      <td>3.6</td>\n",
       "      <td>0.067</td>\n",
       "      <td>18.0</td>\n",
       "      <td>42.0</td>\n",
       "      <td>0.99549</td>\n",
       "      <td>3.39</td>\n",
       "      <td>0.66</td>\n",
       "      <td>11.0</td>\n",
       "    </tr>\n",
       "  </tbody>\n",
       "</table>\n",
       "<p>1599 rows × 11 columns</p>\n",
       "</div>"
      ],
      "text/plain": [
       "      fixed acidity  volatile acidity  citric acid  residual sugar  chlorides  \\\n",
       "0               7.4             0.700         0.00             1.9      0.076   \n",
       "1               7.8             0.880         0.00             2.6      0.098   \n",
       "2               7.8             0.760         0.04             2.3      0.092   \n",
       "3              11.2             0.280         0.56             1.9      0.075   \n",
       "4               7.4             0.700         0.00             1.9      0.076   \n",
       "...             ...               ...          ...             ...        ...   \n",
       "1594            6.2             0.600         0.08             2.0      0.090   \n",
       "1595            5.9             0.550         0.10             2.2      0.062   \n",
       "1596            6.3             0.510         0.13             2.3      0.076   \n",
       "1597            5.9             0.645         0.12             2.0      0.075   \n",
       "1598            6.0             0.310         0.47             3.6      0.067   \n",
       "\n",
       "      free sulfur dioxide  total sulfur dioxide  density    pH  sulphates  \\\n",
       "0                    11.0                  34.0  0.99780  3.51       0.56   \n",
       "1                    25.0                  67.0  0.99680  3.20       0.68   \n",
       "2                    15.0                  54.0  0.99700  3.26       0.65   \n",
       "3                    17.0                  60.0  0.99800  3.16       0.58   \n",
       "4                    11.0                  34.0  0.99780  3.51       0.56   \n",
       "...                   ...                   ...      ...   ...        ...   \n",
       "1594                 32.0                  44.0  0.99490  3.45       0.58   \n",
       "1595                 39.0                  51.0  0.99512  3.52       0.76   \n",
       "1596                 29.0                  40.0  0.99574  3.42       0.75   \n",
       "1597                 32.0                  44.0  0.99547  3.57       0.71   \n",
       "1598                 18.0                  42.0  0.99549  3.39       0.66   \n",
       "\n",
       "      alcohol  \n",
       "0         9.4  \n",
       "1         9.8  \n",
       "2         9.8  \n",
       "3         9.8  \n",
       "4         9.4  \n",
       "...       ...  \n",
       "1594     10.5  \n",
       "1595     11.2  \n",
       "1596     11.0  \n",
       "1597     10.2  \n",
       "1598     11.0  \n",
       "\n",
       "[1599 rows x 11 columns]"
      ]
     },
     "execution_count": 56,
     "metadata": {},
     "output_type": "execute_result"
    }
   ],
   "source": [
    "x"
   ]
  },
  {
   "cell_type": "code",
   "execution_count": 57,
   "id": "59ecbb33",
   "metadata": {},
   "outputs": [
    {
     "data": {
      "text/plain": [
       "0       5\n",
       "1       5\n",
       "2       5\n",
       "3       6\n",
       "4       5\n",
       "       ..\n",
       "1594    5\n",
       "1595    6\n",
       "1596    6\n",
       "1597    5\n",
       "1598    6\n",
       "Name: quality, Length: 1599, dtype: int64"
      ]
     },
     "execution_count": 57,
     "metadata": {},
     "output_type": "execute_result"
    }
   ],
   "source": [
    "y"
   ]
  },
  {
   "cell_type": "code",
   "execution_count": 58,
   "id": "3fcae259",
   "metadata": {},
   "outputs": [],
   "source": [
    "#importing libaries\n",
    "from sklearn.model_selection import train_test_split\n",
    "from sklearn.linear_model import LinearRegression\n",
    "from sklearn.svm import SVR\n",
    "from sklearn.tree import DecisionTreeRegressor\n",
    "from sklearn.ensemble import RandomForestRegressor\n",
    "from sklearn.preprocessing import StandardScaler\n",
    "from sklearn.metrics import accuracy_score,confusion_matrix,mean_absolute_error"
   ]
  },
  {
   "cell_type": "code",
   "execution_count": 59,
   "id": "6225f154",
   "metadata": {},
   "outputs": [],
   "source": [
    "#training and testing datasets\n",
    "x_train, x_test, y_train, y_test = train_test_split(x, y, test_size=0.2, random_state=0)"
   ]
  },
  {
   "cell_type": "code",
   "execution_count": 60,
   "id": "935708fc",
   "metadata": {},
   "outputs": [
    {
     "data": {
      "text/plain": [
       "['citric acid', 'total sulfur dioxide', 'density', 'pH']"
      ]
     },
     "execution_count": 60,
     "metadata": {},
     "output_type": "execute_result"
    }
   ],
   "source": [
    "corr_features = get_correlation(x_train,0.6)\n",
    "corr_features"
   ]
  },
  {
   "cell_type": "code",
   "execution_count": 61,
   "id": "38436b28",
   "metadata": {},
   "outputs": [],
   "source": [
    "#dropping columns which are highly correlated to each other"
   ]
  },
  {
   "cell_type": "code",
   "execution_count": 62,
   "id": "4f4ba7c1",
   "metadata": {},
   "outputs": [
    {
     "data": {
      "text/html": [
       "<div>\n",
       "<style scoped>\n",
       "    .dataframe tbody tr th:only-of-type {\n",
       "        vertical-align: middle;\n",
       "    }\n",
       "\n",
       "    .dataframe tbody tr th {\n",
       "        vertical-align: top;\n",
       "    }\n",
       "\n",
       "    .dataframe thead th {\n",
       "        text-align: right;\n",
       "    }\n",
       "</style>\n",
       "<table border=\"1\" class=\"dataframe\">\n",
       "  <thead>\n",
       "    <tr style=\"text-align: right;\">\n",
       "      <th></th>\n",
       "      <th>fixed acidity</th>\n",
       "      <th>volatile acidity</th>\n",
       "      <th>residual sugar</th>\n",
       "      <th>chlorides</th>\n",
       "      <th>free sulfur dioxide</th>\n",
       "      <th>sulphates</th>\n",
       "      <th>alcohol</th>\n",
       "    </tr>\n",
       "  </thead>\n",
       "  <tbody>\n",
       "    <tr>\n",
       "      <th>1109</th>\n",
       "      <td>10.8</td>\n",
       "      <td>0.470</td>\n",
       "      <td>2.10</td>\n",
       "      <td>0.171</td>\n",
       "      <td>27.0</td>\n",
       "      <td>0.76</td>\n",
       "      <td>10.8</td>\n",
       "    </tr>\n",
       "    <tr>\n",
       "      <th>1032</th>\n",
       "      <td>8.1</td>\n",
       "      <td>0.820</td>\n",
       "      <td>4.10</td>\n",
       "      <td>0.095</td>\n",
       "      <td>5.0</td>\n",
       "      <td>0.53</td>\n",
       "      <td>9.6</td>\n",
       "    </tr>\n",
       "    <tr>\n",
       "      <th>1002</th>\n",
       "      <td>9.1</td>\n",
       "      <td>0.290</td>\n",
       "      <td>2.05</td>\n",
       "      <td>0.063</td>\n",
       "      <td>13.0</td>\n",
       "      <td>0.84</td>\n",
       "      <td>11.7</td>\n",
       "    </tr>\n",
       "    <tr>\n",
       "      <th>487</th>\n",
       "      <td>10.2</td>\n",
       "      <td>0.645</td>\n",
       "      <td>1.80</td>\n",
       "      <td>0.053</td>\n",
       "      <td>5.0</td>\n",
       "      <td>0.42</td>\n",
       "      <td>10.0</td>\n",
       "    </tr>\n",
       "    <tr>\n",
       "      <th>979</th>\n",
       "      <td>12.2</td>\n",
       "      <td>0.450</td>\n",
       "      <td>1.40</td>\n",
       "      <td>0.075</td>\n",
       "      <td>3.0</td>\n",
       "      <td>0.63</td>\n",
       "      <td>10.4</td>\n",
       "    </tr>\n",
       "    <tr>\n",
       "      <th>...</th>\n",
       "      <td>...</td>\n",
       "      <td>...</td>\n",
       "      <td>...</td>\n",
       "      <td>...</td>\n",
       "      <td>...</td>\n",
       "      <td>...</td>\n",
       "      <td>...</td>\n",
       "    </tr>\n",
       "    <tr>\n",
       "      <th>794</th>\n",
       "      <td>10.1</td>\n",
       "      <td>0.270</td>\n",
       "      <td>2.30</td>\n",
       "      <td>0.065</td>\n",
       "      <td>7.0</td>\n",
       "      <td>0.53</td>\n",
       "      <td>12.5</td>\n",
       "    </tr>\n",
       "    <tr>\n",
       "      <th>813</th>\n",
       "      <td>6.9</td>\n",
       "      <td>0.390</td>\n",
       "      <td>2.10</td>\n",
       "      <td>0.102</td>\n",
       "      <td>4.0</td>\n",
       "      <td>0.58</td>\n",
       "      <td>11.4</td>\n",
       "    </tr>\n",
       "    <tr>\n",
       "      <th>1322</th>\n",
       "      <td>9.1</td>\n",
       "      <td>0.340</td>\n",
       "      <td>1.80</td>\n",
       "      <td>0.058</td>\n",
       "      <td>9.0</td>\n",
       "      <td>0.55</td>\n",
       "      <td>11.4</td>\n",
       "    </tr>\n",
       "    <tr>\n",
       "      <th>704</th>\n",
       "      <td>9.1</td>\n",
       "      <td>0.765</td>\n",
       "      <td>1.60</td>\n",
       "      <td>0.078</td>\n",
       "      <td>4.0</td>\n",
       "      <td>0.54</td>\n",
       "      <td>9.7</td>\n",
       "    </tr>\n",
       "    <tr>\n",
       "      <th>1023</th>\n",
       "      <td>8.2</td>\n",
       "      <td>0.320</td>\n",
       "      <td>2.30</td>\n",
       "      <td>0.098</td>\n",
       "      <td>3.0</td>\n",
       "      <td>0.55</td>\n",
       "      <td>12.3</td>\n",
       "    </tr>\n",
       "  </tbody>\n",
       "</table>\n",
       "<p>320 rows × 7 columns</p>\n",
       "</div>"
      ],
      "text/plain": [
       "      fixed acidity  volatile acidity  residual sugar  chlorides  \\\n",
       "1109           10.8             0.470            2.10      0.171   \n",
       "1032            8.1             0.820            4.10      0.095   \n",
       "1002            9.1             0.290            2.05      0.063   \n",
       "487            10.2             0.645            1.80      0.053   \n",
       "979            12.2             0.450            1.40      0.075   \n",
       "...             ...               ...             ...        ...   \n",
       "794            10.1             0.270            2.30      0.065   \n",
       "813             6.9             0.390            2.10      0.102   \n",
       "1322            9.1             0.340            1.80      0.058   \n",
       "704             9.1             0.765            1.60      0.078   \n",
       "1023            8.2             0.320            2.30      0.098   \n",
       "\n",
       "      free sulfur dioxide  sulphates  alcohol  \n",
       "1109                 27.0       0.76     10.8  \n",
       "1032                  5.0       0.53      9.6  \n",
       "1002                 13.0       0.84     11.7  \n",
       "487                   5.0       0.42     10.0  \n",
       "979                   3.0       0.63     10.4  \n",
       "...                   ...        ...      ...  \n",
       "794                   7.0       0.53     12.5  \n",
       "813                   4.0       0.58     11.4  \n",
       "1322                  9.0       0.55     11.4  \n",
       "704                   4.0       0.54      9.7  \n",
       "1023                  3.0       0.55     12.3  \n",
       "\n",
       "[320 rows x 7 columns]"
      ]
     },
     "execution_count": 62,
     "metadata": {},
     "output_type": "execute_result"
    }
   ],
   "source": [
    "x_train.drop(corr_features,axis=1)\n",
    "x_test.drop(corr_features,axis=1)"
   ]
  },
  {
   "cell_type": "code",
   "execution_count": 63,
   "id": "e04a23ea",
   "metadata": {},
   "outputs": [],
   "source": [
    "#Features scaling\n",
    "sc = StandardScaler()\n",
    "x_train = sc.fit_transform(x_train)\n",
    "x_test = sc.fit_transform(x_test)"
   ]
  },
  {
   "cell_type": "code",
   "execution_count": 64,
   "id": "d0cc7b86",
   "metadata": {},
   "outputs": [
    {
     "data": {
      "text/plain": [
       "array([[ 0.90103398,  0.05480282,  0.9094138 , ...,  0.52091013,\n",
       "        -0.22358408, -0.95579434],\n",
       "       [ 1.41998736, -1.47967601,  0.9094138 , ..., -1.16841553,\n",
       "        -0.68130963, -0.76727388],\n",
       "       [ 0.90103398, -0.98645067,  1.4208416 , ..., -0.3237527 ,\n",
       "         0.74908272,  0.17532846],\n",
       "       ...,\n",
       "       [-0.25219574,  0.21921126,  0.19341488, ..., -0.12883051,\n",
       "         0.17692578, -0.86153411],\n",
       "       [ 2.68854005, -0.32881689,  1.11398492, ..., -0.06385645,\n",
       "         0.11971008,  2.15479335],\n",
       "       [ 0.84337249,  2.46612668,  0.24455766, ..., -0.38872677,\n",
       "        -1.0246038 , -0.95579434]])"
      ]
     },
     "execution_count": 64,
     "metadata": {},
     "output_type": "execute_result"
    }
   ],
   "source": [
    "x_train"
   ]
  },
  {
   "cell_type": "code",
   "execution_count": 65,
   "id": "a2c24bdf",
   "metadata": {},
   "outputs": [
    {
     "data": {
      "text/plain": [
       "642     5\n",
       "679     5\n",
       "473     5\n",
       "390     8\n",
       "1096    6\n",
       "       ..\n",
       "763     5\n",
       "835     5\n",
       "1216    6\n",
       "559     6\n",
       "684     5\n",
       "Name: quality, Length: 1279, dtype: int64"
      ]
     },
     "execution_count": 65,
     "metadata": {},
     "output_type": "execute_result"
    }
   ],
   "source": [
    "y_train"
   ]
  },
  {
   "cell_type": "markdown",
   "id": "8fdf8dbd",
   "metadata": {},
   "source": [
    "# Linear Regression"
   ]
  },
  {
   "cell_type": "code",
   "execution_count": 66,
   "id": "9fa70e49",
   "metadata": {},
   "outputs": [
    {
     "data": {
      "text/plain": [
       "LinearRegression()"
      ]
     },
     "execution_count": 66,
     "metadata": {},
     "output_type": "execute_result"
    }
   ],
   "source": [
    "# fit the model\n",
    "linear_reg = LinearRegression()\n",
    "linear_reg.fit(x_train, y_train)"
   ]
  },
  {
   "cell_type": "code",
   "execution_count": 67,
   "id": "e93b3dc2",
   "metadata": {},
   "outputs": [
    {
     "name": "stdout",
     "output_type": "stream",
     "text": [
      "[5.76385478 4.98006946 6.64102493 5.27480699 5.93051034 4.95805557\n",
      " 5.35105778 6.0594488  4.76558558 4.89268871 5.24932617 5.36800084\n",
      " 5.68031947 5.0197175  5.51062764 6.41821707 6.83304011 5.71301548\n",
      " 5.92193484 5.05501536 6.31417929 5.12991229 5.60598355 6.16576906\n",
      " 5.4803782  4.93702179 5.13198248 6.51165656 5.29938172 6.28012667\n",
      " 6.04884564 5.8237069  5.54373934 5.25886212 5.67621688 6.17757069\n",
      " 5.13017354 5.52654811 6.39221706 5.75787899 5.39872148 6.06137627\n",
      " 6.68743062 6.63429619 5.95888107 4.69146177 5.46197404 6.01848535\n",
      " 5.46398874 6.10714487 5.30188276 5.27369029 5.79126048 6.34779126\n",
      " 5.73410733 5.20017687 5.02744333 5.27115977 6.52689639 5.43550358\n",
      " 5.14677243 5.74906082 6.04569753 6.26498692 5.02770371 6.12493522\n",
      " 5.30526479 6.00106148 6.12865961 5.95517256 5.2948336  5.47729398\n",
      " 4.9938974  5.55870363 5.59846992 6.22759332 5.37672307 5.28182758\n",
      " 5.73271578 6.33180342 5.68078348 5.263103   5.903888   6.07235053\n",
      " 5.46630304 5.34664952 6.23683579 4.99751831 5.29853871 4.9154765\n",
      " 5.11315529 5.26639183 5.77989118 5.36919516 6.23097912 5.2948336\n",
      " 6.30722207 5.31150693 5.43544825 5.986049   6.92050631 5.98871141\n",
      " 5.76184541 6.32746132 5.55210799 4.8879761  5.55210799 5.40094342\n",
      " 5.98608763 5.25206239 5.88397504 5.06651981 6.26158399 4.98461076\n",
      " 5.56891397 5.82408992 5.65855249 6.41157133 5.77473909 5.60598355\n",
      " 5.08889245 5.88733192 5.46389596 5.0449294  6.17131632 6.34860479\n",
      " 5.28459368 5.38922579 6.03058638 6.47568648 5.40539621 5.1709763\n",
      " 5.99264574 5.78453393 6.39530117 5.23876915 5.91440954 5.28540346\n",
      " 6.11207115 5.29376838 5.92108361 5.05028229 5.46197404 5.26956621\n",
      " 5.69537118 5.75893881 6.26158399 6.46834764 6.27042408 5.25855382\n",
      " 5.91006401 5.92819512 5.40094342 5.47254474 5.57812042 5.34780555\n",
      " 5.04360883 5.31271393 6.18688771 6.13314754 5.90092311 5.56739452\n",
      " 6.3388011  5.09753952 5.88629526 4.94505637 6.05556495 6.46873753\n",
      " 5.43681249 5.96150553 5.97126469 5.53454207 4.9515313  6.67809731\n",
      " 5.7822367  6.25526197 6.20992064 6.83896602 6.05111659 4.72246846\n",
      " 5.03340588 6.99824785 5.44347693 6.20003083 6.75287097 4.95487816\n",
      " 5.63594801 5.76184541 4.9022351  6.19650094 6.08413415 5.9287756\n",
      " 5.1194513  5.46458472 5.15442024 5.1261171  5.24932617 5.09652532\n",
      " 5.19645147 5.11151772 5.21739599 6.18391767 5.10405188 5.27156785\n",
      " 5.35749524 4.90844577 5.01095608 6.34511354 6.05993585 5.39469762\n",
      " 5.90773364 6.12827203 5.39213269 6.35318798 4.96082352 5.4359368\n",
      " 5.97404927 6.04876288 5.53097804 4.94407497 4.99105738 5.92169634\n",
      " 6.37253781 5.76154582 5.39720043 6.02493871 6.36322385 5.77395774\n",
      " 4.78548099 5.46853833 4.98546561 5.868555   4.99662127 5.8511715\n",
      " 6.24180981 5.59649164 6.14689565 6.62088756 6.494764   6.1287551\n",
      " 5.32661656 4.83285616 4.96458757 5.04278798 5.94380587 4.75074695\n",
      " 5.59546844 5.18907387 4.85309477 6.35003739 4.78215434 5.22177378\n",
      " 4.81656524 5.27116923 5.50896782 5.54924194 5.04697944 4.95922506\n",
      " 5.0923554  5.59659405 5.31659296 6.97715044 5.28876715 5.65825608\n",
      " 5.19888786 4.58814891 5.30184838 4.91034828 5.61809438 6.51421351\n",
      " 5.71634344 5.77074469 5.60173543 6.03677168 5.91727214 5.84615007\n",
      " 6.38074156 5.13490388 6.57042222 6.13949067 5.33181209 6.98423583\n",
      " 5.77074469 6.41266007 5.81462327 5.13975016 5.51992279 5.31607858\n",
      " 6.31069993 5.9247624  5.6701081  5.30733766 6.1900297  5.29572149\n",
      " 5.14471204 5.65624705 5.54200301 5.12960809 5.09239508 5.19774204\n",
      " 5.65736544 4.96987252 5.34203591 5.69660443 6.09888582 5.82039008\n",
      " 5.27715707 4.99746234 5.6159992  5.28975951 5.91225103 5.92660314\n",
      " 5.34176165 5.31150693 5.03783904 6.54523883 6.00566708 6.23927257\n",
      " 5.10452171 6.35308995]\n"
     ]
    }
   ],
   "source": [
    "# predict using x_test values\n",
    "y_pred = linear_reg.predict(x_test)\n",
    "print(y_pred)\n",
    "y_pred = np.round(y_pred)"
   ]
  },
  {
   "cell_type": "code",
   "execution_count": null,
   "id": "324e1a99",
   "metadata": {},
   "outputs": [],
   "source": []
  },
  {
   "cell_type": "code",
   "execution_count": 68,
   "id": "0b6d0fc6",
   "metadata": {},
   "outputs": [
    {
     "name": "stdout",
     "output_type": "stream",
     "text": [
      "Mean Absolute Error     :  0.390625\n",
      "Root Mean Squared Error :  0.625\n"
     ]
    }
   ],
   "source": [
    "# Evaluation of the model\n",
    "print('Mean Absolute Error     : ',mean_absolute_error(y_test, y_pred))\n",
    "print('Root Mean Squared Error : ',np.sqrt(mean_absolute_error(y_test,y_pred)))\n"
   ]
  },
  {
   "cell_type": "code",
   "execution_count": 91,
   "id": "3e022927",
   "metadata": {},
   "outputs": [
    {
     "data": {
      "text/plain": [
       "<AxesSubplot:>"
      ]
     },
     "execution_count": 91,
     "metadata": {},
     "output_type": "execute_result"
    },
    {
     "data": {
      "image/png": "[encoded data removed]",
      "text/plain": [
       "<Figure size 432x288 with 2 Axes>"
      ]
     },
     "metadata": {
      "needs_background": "light"
     },
     "output_type": "display_data"
    }
   ],
   "source": [
    "cf_matrix = confusion_matrix(y_test, y_pred)\n",
    "sns.heatmap(cf_matrix, annot = True)"
   ]
  },
  {
   "cell_type": "markdown",
   "id": "f61d7c83",
   "metadata": {},
   "source": [
    "# Decision Tree Regressor\n"
   ]
  },
  {
   "cell_type": "code",
   "execution_count": null,
   "id": "d805eabb",
   "metadata": {},
   "outputs": [],
   "source": []
  },
  {
   "cell_type": "code",
   "execution_count": 69,
   "id": "26ed0987",
   "metadata": {},
   "outputs": [
    {
     "data": {
      "text/plain": [
       "DecisionTreeRegressor(random_state=142)"
      ]
     },
     "execution_count": 69,
     "metadata": {},
     "output_type": "execute_result"
    }
   ],
   "source": [
    "dtr = DecisionTreeRegressor(random_state=142)\n",
    "dtr.fit(x_train, y_train)"
   ]
  },
  {
   "cell_type": "code",
   "execution_count": 71,
   "id": "8f8f0557",
   "metadata": {},
   "outputs": [
    {
     "name": "stdout",
     "output_type": "stream",
     "text": [
      "[5. 6. 7. 5. 4. 6. 6. 6. 6. 5. 5. 5. 6. 5. 5. 5. 7. 5. 5. 5. 7. 5. 6. 5.\n",
      " 6. 5. 5. 6. 5. 7. 6. 7. 5. 5. 6. 7. 5. 6. 7. 5. 5. 6. 6. 7. 6. 5. 5. 6.\n",
      " 4. 7. 6. 6. 6. 8. 5. 5. 5. 5. 7. 6. 5. 6. 6. 6. 5. 6. 5. 5. 7. 7. 6. 6.\n",
      " 4. 5. 6. 6. 6. 6. 5. 7. 6. 5. 7. 6. 6. 5. 4. 5. 6. 5. 5. 6. 5. 5. 5. 6.\n",
      " 7. 4. 5. 6. 6. 5. 6. 5. 5. 5. 5. 5. 6. 5. 6. 5. 6. 5. 5. 6. 5. 6. 7. 6.\n",
      " 5. 5. 5. 5. 6. 6. 5. 6. 6. 6. 5. 6. 6. 6. 6. 5. 6. 5. 6. 5. 6. 6. 5. 5.\n",
      " 5. 6. 6. 6. 5. 5. 5. 5. 5. 5. 6. 6. 4. 6. 4. 6. 6. 6. 6. 5. 5. 5. 6. 6.\n",
      " 6. 6. 6. 5. 5. 7. 6. 6. 7. 7. 7. 5. 4. 7. 6. 6. 6. 6. 5. 6. 5. 5. 6. 6.\n",
      " 6. 5. 5. 5. 5. 5. 5. 5. 5. 6. 5. 6. 3. 5. 5. 7. 6. 6. 5. 6. 5. 7. 5. 6.\n",
      " 6. 6. 6. 5. 5. 5. 6. 6. 5. 6. 6. 7. 6. 6. 5. 6. 6. 5. 6. 6. 6. 7. 7. 6.\n",
      " 5. 6. 5. 5. 7. 5. 5. 5. 5. 6. 5. 5. 5. 4. 4. 5. 5. 5. 6. 7. 5. 6. 5. 6.\n",
      " 6. 5. 5. 5. 5. 6. 5. 5. 6. 6. 7. 6. 6. 5. 6. 5. 5. 6. 5. 6. 6. 5. 6. 5.\n",
      " 7. 4. 5. 5. 6. 6. 6. 6. 6. 6. 6. 5. 6. 5. 5. 5. 6. 6. 6. 5. 5. 5. 5. 6.\n",
      " 5. 4. 5. 5. 6. 6. 5. 7.]\n"
     ]
    }
   ],
   "source": [
    "y_pred_dtr = dtr.predict(x_test)\n",
    "print(y_pred_dtr)\n",
    "y_pred_dtr = np.round(y_pred_dtr)"
   ]
  },
  {
   "cell_type": "code",
   "execution_count": 72,
   "id": "3998cefa",
   "metadata": {
    "scrolled": true
   },
   "outputs": [
    {
     "name": "stdout",
     "output_type": "stream",
     "text": [
      "Mean Absolute Error     :  0.465625\n",
      "Root Mean Squared Error :  0.6823672031978091\n"
     ]
    }
   ],
   "source": [
    "# Evaluation of the model\n",
    "print('Mean Absolute Error     : ',mean_absolute_error(y_test, y_pred_dtr))\n",
    "print('Root Mean Squared Error : ',np.sqrt(mean_absolute_error(y_test,y_pred_dtr)))"
   ]
  },
  {
   "cell_type": "code",
   "execution_count": 87,
   "id": "e27dadc4",
   "metadata": {},
   "outputs": [
    {
     "data": {
      "text/plain": [
       "<AxesSubplot:>"
      ]
     },
     "execution_count": 87,
     "metadata": {},
     "output_type": "execute_result"
    },
    {
     "data": {
      "image/png": "[encoded data removed]",
      "text/plain": [
       "<Figure size 432x288 with 2 Axes>"
      ]
     },
     "metadata": {
      "needs_background": "light"
     },
     "output_type": "display_data"
    }
   ],
   "source": [
    "cf_matrix = confusion_matrix(y_test, y_pred_dtr)\n",
    "sns.heatmap(cf_matrix, annot = True)"
   ]
  },
  {
   "cell_type": "markdown",
   "id": "acf33e49",
   "metadata": {},
   "source": [
    "# Random Forest Regressor\n"
   ]
  },
  {
   "cell_type": "code",
   "execution_count": 73,
   "id": "538081b5",
   "metadata": {},
   "outputs": [
    {
     "data": {
      "text/plain": [
       "RandomForestRegressor(n_estimators=10, random_state=1)"
      ]
     },
     "execution_count": 73,
     "metadata": {},
     "output_type": "execute_result"
    }
   ],
   "source": [
    "rfr = RandomForestRegressor(n_estimators=10,random_state = 1)\n",
    "rfr.fit(x_train, y_train)"
   ]
  },
  {
   "cell_type": "code",
   "execution_count": 74,
   "id": "011ff261",
   "metadata": {},
   "outputs": [
    {
     "name": "stdout",
     "output_type": "stream",
     "text": [
      "[5.5 4.7 6.9 4.8 5.  5.4 5.3 5.9 4.9 5.3 5.1 5.4 5.7 4.7 5.6 5.9 7.1 4.9\n",
      " 5.5 5.1 6.1 5.5 5.5 6.1 5.7 4.9 5.5 6.7 5.  6.5 5.7 5.6 5.7 5.3 6.  6.6\n",
      " 5.1 5.9 6.  5.7 5.1 6.4 6.6 6.5 6.  4.7 5.  5.8 5.5 6.  5.  5.3 5.6 6.2\n",
      " 5.5 5.  5.2 5.2 6.8 5.5 5.3 5.5 5.8 6.  5.2 6.2 5.2 5.  6.4 6.3 5.5 5.5\n",
      " 4.5 5.1 5.8 6.  5.1 5.1 5.  6.2 5.6 4.9 5.5 5.7 5.6 5.6 5.5 5.  5.4 5.1\n",
      " 5.  5.3 6.  5.  5.4 5.5 6.3 4.8 5.6 5.4 6.9 5.9 5.9 5.5 5.1 4.6 5.1 5.3\n",
      " 6.  5.  6.  5.1 7.3 5.5 5.7 5.5 4.9 6.7 5.8 5.5 5.2 5.5 5.3 4.8 7.  6.3\n",
      " 5.2 4.9 5.6 6.5 5.5 5.1 6.2 6.1 5.9 5.  5.6 5.2 6.  5.8 5.8 5.  5.  5.5\n",
      " 5.4 5.7 7.3 5.9 5.7 5.  6.2 5.6 5.3 5.1 5.8 5.6 5.6 4.8 6.2 5.4 5.5 5.6\n",
      " 6.8 5.3 5.1 4.9 5.9 6.3 5.9 5.9 6.  5.1 4.9 6.9 5.1 6.5 5.9 6.9 6.8 4.8\n",
      " 5.5 6.9 5.6 6.4 6.3 5.2 5.2 5.9 5.4 5.6 6.1 5.4 5.5 5.5 5.4 5.1 5.1 5.5\n",
      " 5.8 5.3 5.  6.2 5.5 5.4 5.4 5.4 5.  6.5 6.2 5.4 5.9 6.2 5.  6.4 4.7 5.6\n",
      " 5.2 6.4 6.  5.3 5.2 5.9 6.7 5.6 5.4 6.2 6.2 6.3 5.7 5.5 5.4 5.9 5.  5.5\n",
      " 6.2 5.8 6.  7.  6.4 6.  5.2 5.4 5.  4.9 5.7 5.1 5.2 5.  5.  6.1 5.3 5.2\n",
      " 5.3 5.4 5.6 5.4 5.2 5.2 5.1 6.1 5.4 6.4 5.3 6.  5.5 4.5 5.3 4.7 5.7 6.6\n",
      " 5.3 5.4 5.2 5.8 5.8 5.6 6.4 5.4 6.3 6.1 5.  6.8 5.4 5.5 5.8 5.4 5.2 5.7\n",
      " 6.2 5.6 5.3 4.7 6.1 5.7 5.2 5.8 5.6 5.8 5.1 4.8 5.5 4.7 5.5 5.3 5.9 5.9\n",
      " 5.8 5.2 5.2 5.  5.3 6.  5.2 4.8 5.1 6.2 5.8 6.4 5.1 6.2]\n"
     ]
    }
   ],
   "source": [
    "y_pred_rfr = rfr.predict(x_test)\n",
    "print(y_pred_rfr)\n",
    "y_pred_rfr = np.round(y_pred_rfr)"
   ]
  },
  {
   "cell_type": "code",
   "execution_count": 76,
   "id": "3330e5a1",
   "metadata": {},
   "outputs": [
    {
     "name": "stdout",
     "output_type": "stream",
     "text": [
      "Mean Absolute Error     :  0.309375\n",
      "Root Mean Squared Error :  0.5562148865321748\n"
     ]
    }
   ],
   "source": [
    "# Evaluation of the model\n",
    "print('Mean Absolute Error     : ',mean_absolute_error(y_test, y_pred_rfr))\n",
    "print('Root Mean Squared Error : ',np.sqrt(mean_absolute_error(y_test,y_pred_rfr)))"
   ]
  },
  {
   "cell_type": "code",
   "execution_count": 77,
   "id": "de603dba",
   "metadata": {},
   "outputs": [
    {
     "name": "stdout",
     "output_type": "stream",
     "text": [
      "Accuracy of the Random Forest Regressor model =  72.5 %\n"
     ]
    }
   ],
   "source": [
    "#Accuracy of Random Forest Regressor Model\n",
    "acc_score_rfr = round(accuracy_score(y_test, y_pred_rfr)*100,2)\n",
    "print(\"Accuracy of the Random Forest Regressor model = \",acc_score_rfr,\"%\")"
   ]
  },
  {
   "cell_type": "code",
   "execution_count": 85,
   "id": "46702157",
   "metadata": {},
   "outputs": [
    {
     "data": {
      "text/plain": [
       "<AxesSubplot:>"
      ]
     },
     "execution_count": 85,
     "metadata": {},
     "output_type": "execute_result"
    },
    {
     "data": {
      "image/png": "[encoded data removed]",
      "text/plain": [
       "<Figure size 432x288 with 2 Axes>"
      ]
     },
     "metadata": {
      "needs_background": "light"
     },
     "output_type": "display_data"
    }
   ],
   "source": [
    "cf_matrix = confusion_matrix(y_test, y_pred_rfr)\n",
    "sns.heatmap(cf_matrix, annot = True)"
   ]
  },
  {
   "cell_type": "markdown",
   "id": "47c3abe3",
   "metadata": {},
   "source": [
    "# SVM Regressor\n"
   ]
  },
  {
   "cell_type": "code",
   "execution_count": 80,
   "id": "62315206",
   "metadata": {},
   "outputs": [
    {
     "data": {
      "text/plain": [
       "SVR()"
      ]
     },
     "execution_count": 80,
     "metadata": {},
     "output_type": "execute_result"
    }
   ],
   "source": [
    "svr = SVR(kernel=\"rbf\")\n",
    "svr.fit(x_train, y_train)"
   ]
  },
  {
   "cell_type": "code",
   "execution_count": 81,
   "id": "c5bab995",
   "metadata": {},
   "outputs": [
    {
     "name": "stdout",
     "output_type": "stream",
     "text": [
      "[5.17903702 5.14845317 7.10553887 4.77456949 6.0338929  5.16703022\n",
      " 5.03361104 5.9318447  5.17021596 5.03451175 4.94984288 5.36705622\n",
      " 5.55486934 5.32042706 5.44837764 6.31816611 6.94421334 5.26576673\n",
      " 5.37811434 5.3263166  6.03088053 5.27677591 5.68925241 5.69316222\n",
      " 5.44156445 5.16947347 5.16295796 6.87048635 4.98567844 6.01909674\n",
      " 5.82482559 5.88416724 5.63132275 5.47272656 5.99189559 5.98368405\n",
      " 5.29160653 5.89443767 6.16048378 5.91066517 5.18236269 6.81597414\n",
      " 6.40340408 6.54264366 5.91399365 5.10468599 5.07560749 5.74144969\n",
      " 5.0597736  5.87354451 4.82637864 5.1466579  6.17091853 6.24679156\n",
      " 5.48866614 5.2057999  4.92373067 5.06374203 6.80404349 5.6594908\n",
      " 5.08388336 5.85821204 6.05680266 5.6944063  5.11920099 6.18730731\n",
      " 5.09774827 5.14551783 6.33015738 6.13570689 5.24542807 5.25924317\n",
      " 4.91065093 5.22311425 5.57865288 5.96474834 5.34650563 5.05062565\n",
      " 4.98727921 6.59758146 5.49725695 5.1065959  5.81876333 5.78514356\n",
      " 5.49382082 5.71047887 6.01983915 4.81376262 5.41304854 4.89960169\n",
      " 4.92656692 5.10234698 5.52723711 5.19634867 6.12723236 5.24542807\n",
      " 6.47266657 4.89849121 5.56332096 5.93179757]\n"
     ]
    }
   ],
   "source": [
    "y_pred_svr = svr.predict(x_test)\n",
    "print(y_pred_svr[:100])\n",
    "y_pred_svr = np.round(y_pred_svr)"
   ]
  },
  {
   "cell_type": "code",
   "execution_count": 82,
   "id": "896479d4",
   "metadata": {},
   "outputs": [
    {
     "name": "stdout",
     "output_type": "stream",
     "text": [
      "Mean Absolute Error     :  0.390625\n",
      "Root Mean Squared Error :  0.625\n"
     ]
    }
   ],
   "source": [
    "# Evaluation of the model\n",
    "print('Mean Absolute Error     : ',mean_absolute_error(y_test, y_pred_svr))\n",
    "print('Root Mean Squared Error : ',np.sqrt(mean_absolute_error(y_test,y_pred_svr)))"
   ]
  },
  {
   "cell_type": "code",
   "execution_count": 84,
   "id": "d6cf7731",
   "metadata": {},
   "outputs": [
    {
     "name": "stdout",
     "output_type": "stream",
     "text": [
      "Accuracy of the SVM Regressor model =  63.75 %\n"
     ]
    }
   ],
   "source": [
    "#Accuracy of SVM Regressor Model\n",
    "acc_score_svr = round(accuracy_score(y_test, y_pred_svr)*100,2)\n",
    "print(\"Accuracy of the SVM Regressor model = \",acc_score_svr,\"%\")"
   ]
  },
  {
   "cell_type": "code",
   "execution_count": 92,
   "id": "717c6d8f",
   "metadata": {},
   "outputs": [
    {
     "data": {
      "text/plain": [
       "<AxesSubplot:>"
      ]
     },
     "execution_count": 92,
     "metadata": {},
     "output_type": "execute_result"
    },
    {
     "data": {
      "image/png": "[encoded data removed]",
      "text/plain": [
       "<Figure size 432x288 with 2 Axes>"
      ]
     },
     "metadata": {
      "needs_background": "light"
     },
     "output_type": "display_data"
    }
   ],
   "source": [
    "cf_matrix = confusion_matrix(y_test, y_pred_svr)\n",
    "sns.heatmap(cf_matrix, annot = True)"
   ]
  },
  {
   "cell_type": "raw",
   "id": "0ac82298",
   "metadata": {},
   "source": [
    "inear regression--\n",
    "Mean Absolute Error     :  0.390625\n",
    "Root Mean Squared Error :  0.625\n",
    "Decision Tree Regressor--\n",
    "Mean Absolute Error     :  0.465625\n",
    "Root Mean Squared Error :  0.6823672031978091\n",
    "\n",
    "RANDOM FOREST REGRESSOR--\n",
    "Mean Absolute Error     :  0.309375\n",
    "Root Mean Squared Error :  0.5562148865321748\n",
    "SVM Regressor--\n",
    "Mean Absolute Error     :  0.390625\n",
    "Root Mean Squared Error :  0.625\n",
    "    "
   ]
  },
  {
   "cell_type": "markdown",
   "id": "fe15e4a2",
   "metadata": {},
   "source": [
    "conclusion from all the algorithm used:_\"RANDOM FOREST REGRESSOR predicted the QUALITY OF RED WINE with highest accuracy i,e 72.5%\"\n",
    "    "
   ]
  },
  {
   "cell_type": "code",
   "execution_count": null,
   "id": "e143656f",
   "metadata": {},
   "outputs": [],
   "source": [
    "\n"
   ]
  }
 ],
 "metadata": {
  "kernelspec": {
   "display_name": "Python 3 (ipykernel)",
   "language": "python",
   "name": "python3"
  },
  "language_info": {
   "codemirror_mode": {
    "name": "ipython",
    "version": 3
   },
   "file_extension": ".py",
   "mimetype": "text/x-python",
   "name": "python",
   "nbconvert_exporter": "python",
   "pygments_lexer": "ipython3",
   "version": "3.9.7"
  }
 },
 "nbformat": 4,
 "nbformat_minor": 5
}
